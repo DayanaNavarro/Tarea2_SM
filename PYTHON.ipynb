{
 "cells": [
  {
   "cell_type": "markdown",
   "metadata": {},
   "source": [
    "# ¿LENGUAJE DE PROGRAMACIÓN DEL AÑO? PYTHON SE ENCUENTRA HASTA ARRIBA DE LOS ÚLTIMOS RANKINGS\n",
    "\n",
    "**“Python consolida su lugar como un lenguaje de programación entre los tres primeros a largo plazo”**\n",
    "\n",
    "> Python ha consolidado su lugar entre los tres principales lenguajes de programación más populares, habiendo visto el mayor aumento de cualquier lenguaje en las clasificaciones basadas en motores de búsqueda Tiobe.\n",
    "\n",
    "El índice Tiobe y otras clasificaciones de popularidad de IEEE Spectrum y PYPL ofrecen a los programadores una forma de evaluar en qué lenguajes vale la pena invertir tiempo. David Gewirtz de ZDNet ha escrito un artículo muy informativo sobre cómo los desarrolladores pueden abordar esta pregunta utilizando una variedad de índices y fuentes además de las clasificaciones de popularidad.\n",
    "\n",
    "Python ganó 3.62 puntos porcentuales año tras año en el índice de enero del 2019 de Tiobe, superando los aumentos de Visual Basic .NET y Java, el segundo y el tercer mayor ganador. Python fue creado en 1989 por el programador holandés Guido van Rossum, quien renunció a su papel de *\"dictador benevolente de por vida\"* de Python en julio.\n",
    "\n",
    "También es el lenguaje más popular entre los hackers informáticos, gracias a su sintaxis que es muy fácil de entender, a su amplia disponibilidad de tutoriales en línea y una gran cantidad de bibliotecas de software de terceros inofensivas que pueden reutilizarse para uso malicioso. Se puede concluir que el que sea un lenguaje sencillo de entender tiene sus pros y sus contras.\n",
    "\n",
    "# Python se está convirtiendo en el lenguaje de codificación más popular del mundo\n",
    "\n",
    "**“Pero es poco probable que sus rivales desaparezcan”**\n",
    "\n",
    "> \"CIERTAMENTE no me propuse crear un lenguaje destinado al consumo masivo\", dice Guido van Rossum, un informático holandés que ideó Python, un lenguaje de programación, en 1989. Pero casi tres décadas después, su invención ha superado casi todos sus rivales y llevaron la codificación a la punta de los dedos de personas que alguna vez estuvieron desconcertadas por él.\n",
    "\n",
    "Las dos ventajas principales del lenguaje son su simplicidad y flexibilidad. Su sintaxis directa y el uso de sangrías hacen que sea fácil de aprender, leer y compartir. Sus ávidos practicantes, conocidos como Pythonistas, han subido 145,000 paquetes de software personalizados a un repositorio en línea. Estos cubren todo, desde el desarrollo del juego hasta la astronomía, y se pueden instalar e insertar en un programa Python en cuestión de segundos. Esta versatilidad significa que la Agencia Central de Inteligencia lo ha utilizado para hackear, Google para rastrear páginas web, Pixar para producir películas y Spotify para recomendar canciones.\n",
    "\n",
    "Con una base de usuarios de tan rápido crecimiento y una amplia gama de capacidades, Python puede parecer destinado a convertirse en el lenguaje franco de la codificación, dejando obsoletos a todos los demás competidores.\n",
    "\n",
    "\n",
    "Aunque a veces un poder ascendente podría estar preparado para dominar el mundo, sus rivales generalmente sobreviven en los nichos técnicos y culturales en los que emergieron.\n",
    "\n"
   ]
  }
 ],
 "metadata": {
  "kernelspec": {
   "display_name": "Python 3",
   "language": "python",
   "name": "python3"
  },
  "language_info": {
   "codemirror_mode": {
    "name": "ipython",
    "version": 3
   },
   "file_extension": ".py",
   "mimetype": "text/x-python",
   "name": "python",
   "nbconvert_exporter": "python",
   "pygments_lexer": "ipython3",
   "version": "3.7.3"
  }
 },
 "nbformat": 4,
 "nbformat_minor": 2
}
